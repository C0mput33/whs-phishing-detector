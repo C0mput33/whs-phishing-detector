{
 "cells": [
  {
   "cell_type": "code",
   "execution_count": 1,
   "id": "4eb466db-fe54-47a3-aa02-c9cc15d77e70",
   "metadata": {},
   "outputs": [],
   "source": [
    "import pandas as pd\n",
    "from sklearn.pipeline import Pipeline\n",
    "from sklearn.model_selection import GridSearchCV\n",
    "from scipy.sparse import hstack\n",
    "import lightgbm as lgb\n",
    "from urllib.parse import urlparse, parse_qs\n",
    "from sklearn.feature_extraction.text import CountVectorizer\n",
    "from sklearn.model_selection import train_test_split\n",
    "from sklearn.metrics import accuracy_score, f1_score, recall_score, precision_score\n",
    "import joblib\n",
    "from urllib.parse import urlparse, parse_qs"
   ]
  },
  {
   "cell_type": "code",
   "execution_count": 2,
   "id": "f9d167d5-8d8c-49a5-a1d9-5137cba2b7fb",
   "metadata": {},
   "outputs": [],
   "source": [
    "data = pd.read_csv('model_data(1).csv')"
   ]
  },
  {
   "cell_type": "code",
   "execution_count": 4,
   "id": "cebaf85a-5182-4e41-ab9e-6b995d7bd912",
   "metadata": {},
   "outputs": [],
   "source": [
    "def tokenize_url(url: str):\n",
    "    \"\"\"\n",
    "    주어진 URL을 토큰화하여 리스트로 반환하는 함수.\n",
    "\n",
    "    Parameters:\n",
    "    url (str): 토큰화할 URL 문자열.\n",
    "\n",
    "    Returns:\n",
    "    list: URL의 토큰 리스트.\n",
    "    \"\"\"\n",
    "    tokens = []\n",
    "    # URL 파싱\n",
    "    parsed_url = urlparse(url)\n",
    "    \n",
    "    # 도메인 토큰화\n",
    "    domain_tokens = parsed_url.netloc.split('.')\n",
    "    tokens.extend(domain_tokens)\n",
    "    \n",
    "    # 경로 토큰화\n",
    "    path_tokens = parsed_url.path.split('/')\n",
    "    tokens.extend([token for token in path_tokens if token])\n",
    "    \n",
    "    # 쿼리 매개변수 토큰화\n",
    "    query_tokens = parse_qs(parsed_url.query)\n",
    "    for key, values in query_tokens.items():\n",
    "        tokens.append(key)\n",
    "        tokens.extend(values)\n",
    "    \n",
    "    return tokens\n",
    "\n",
    "data['Tokenized_url'] = data['url'].apply(lambda x: ' '.join(tokenize_url(x)))"
   ]
  },
  {
   "cell_type": "code",
   "execution_count": 6,
   "id": "c6a022ac-ac16-4ce1-bcb1-cce1106e03bb",
   "metadata": {},
   "outputs": [],
   "source": [
    "#텍스트 피처 벡터화\n",
    "vectorizer = CountVectorizer()\n",
    "X_text = vectorizer.fit_transform(data['Tokenized_url'])\n",
    "\n",
    "#다른 피처들과 결합\n",
    "# Tokenized_url을 제외한 나머지 피처들\n",
    "other_features = data.drop(columns=['url', 'Label', 'Tokenized_url'])\n",
    "X_other = other_features.values\n",
    "\n",
    "# 희소 행렬과 밀집 행렬 결합\n",
    "from scipy.sparse import hstack\n",
    "X = hstack([X_text, X_other])\n",
    "\n",
    "# 종속 변수\n",
    "y = data['Label']"
   ]
  },
  {
   "cell_type": "code",
   "execution_count": 7,
   "id": "27fd0d74-7bb6-47b1-a793-40b0ab7ec13d",
   "metadata": {},
   "outputs": [
    {
     "name": "stdout",
     "output_type": "stream",
     "text": [
      "훈련 데이터 크기: (230916, 243448) (230916,)\n",
      "검증 데이터 크기: (76972, 243448) (76972,)\n",
      "테스트 데이터 크기: (76972, 243448) (76972,)\n"
     ]
    }
   ],
   "source": [
    "# 데이터를 훈련 데이터와 테스트 데이터로 나누기\n",
    "X_train, X_test, y_train, y_test = train_test_split(X, y, test_size=0.2, random_state=42)\n",
    "\n",
    "# 훈련 데이터를 다시 훈련 데이터와 검증 데이터로 나누기\n",
    "X_train, X_val, y_train, y_val = train_test_split(X_train, y_train, test_size=0.25, random_state=42)  # 0.25 * 0.8 = 0.2"
   ]
  },
  {
   "cell_type": "code",
   "execution_count": 8,
   "id": "6c69b2e6-1cca-48c7-bf96-98b9fc62f228",
   "metadata": {},
   "outputs": [],
   "source": [
    "from sklearn.ensemble import RandomForestClassifier\n",
    "\n",
    "# 랜덤 포레스트 모델 초기화\n",
    "rf_model = RandomForestClassifier(random_state=42)"
   ]
  },
  {
   "cell_type": "code",
   "execution_count": null,
   "id": "bb94a349-2001-496d-9a0a-8d2a0dd0bc63",
   "metadata": {
    "scrolled": true
   },
   "outputs": [],
   "source": [
    "# 모델 훈련\n",
    "rf_model.fit(X_train, y_train)"
   ]
  },
  {
   "cell_type": "code",
   "execution_count": null,
   "id": "595b9703-229c-4f98-b127-fcdb2d1b4d1d",
   "metadata": {},
   "outputs": [],
   "source": [
    "# 모델 및 벡터라이저 저장\n",
    "joblib.dump(rf_model, 'rf_model.pkl')\n",
    "joblib.dump(vectorizer, 'vectorizer.pkl')"
   ]
  },
  {
   "cell_type": "code",
   "execution_count": null,
   "id": "1c7a0ef1-cfc6-4a9c-982f-067dd2519a8e",
   "metadata": {},
   "outputs": [],
   "source": [
    "# 검증 데이터에 대한 예측\n",
    "val_predictions = rf_model.predict(X_val)\n",
    "\n",
    "# 검증 데이터 정확도 평가\n",
    "val_accuracy = accuracy_score(y_val, val_predictions)"
   ]
  },
  {
   "cell_type": "code",
   "execution_count": null,
   "id": "19737db9-7a70-4faf-b05b-9072472df563",
   "metadata": {},
   "outputs": [],
   "source": [
    "# 테스트 데이터에 대한 예측 및 평가\n",
    "test_predictions = rf_model.predict(X_test)\n",
    "test_accuracy = accuracy_score(y_test, test_predictions)\n",
    "test_f1 = f1_score(y_test, test_predictions)\n",
    "test_recall = recall_score(y_test, test_predictions)\n",
    "test_precision = precision_score(y_test, test_predictions)\n",
    "\n",
    "print(f\"Validation Accuracy: {val_accuracy}\")\n",
    "print(f\"Test Accuracy: {test_accuracy}\")\n",
    "print(f\"Test F1 Score: {test_f1}\")\n",
    "print(f\"Test Recall: {test_recall}\")\n",
    "print(f\"Test Precision: {test_precision}\")"
   ]
  },
  {
   "cell_type": "code",
   "execution_count": null,
   "id": "8c7a7dca-5dc9-4b85-89a7-cea6c1a69145",
   "metadata": {},
   "outputs": [],
   "source": [
    "from flask import Flask, request, jsonify\n",
    "import joblib\n",
    "from urllib.parse import urlparse, parse_qs\n",
    "import re\n",
    "import urllib\n",
    "\n",
    "app = Flask(__name__)\n",
    "\n",
    "# 모델 및 벡터라이저 로드\n",
    "rf_model = joblib.load('rf_model.pkl')\n",
    "vectorizer = joblib.load('vectorizer.pkl')\n",
    "\n",
    "ip_pattern = r\"(?:\\d{1,3}\\.){3}\\d{1,3}\"\n",
    "shorteningServices = r\"bit\\.ly|goo\\.gl|shorte\\.st|go2l\\.ink|x\\.co|ow\\.ly|t\\.co|tinyurl|tr\\.im|is\\.gd|cli\\.gs|yfrog\\.com|migre\\.me|ff\\.im|tiny\\.cc|url4\\.eu|twit\\.ac|su\\.pr|twurl\\.nl|snipurl\\.com|short\\.to|BudURL\\.com|ping\\.fm|post\\.ly|Just\\.as|bkite\\.com|snipr\\.com|fic\\.kr|loopt\\.us|doiop\\.com|short\\.ie|kl\\.am|wp\\.me|rubyurl\\.com|om\\.ly|to\\.ly|bit\\.do|t\\.co|lnkd\\.in|db\\.tt|qr\\.ae|adf\\.ly|goo\\.gl|bitly\\.com|cur\\.lv|tinyurl\\.com|ow\\.ly|bit\\.ly|ity\\.im|q\\.gs|is\\.gd|po\\.st|bc\\.vc|twitthis\\.com|u\\.to|j\\.mp|buzurl\\.com|cutt\\.us|u\\.bb|yourls\\.org|x\\.co|prettylinkpro\\.com|scrnch\\.me|filoops\\.info|vzturl\\.com|qr\\.net|1url\\.com|tweez\\.me|v\\.gd|tr\\.im|link\\.zip\\.net|buff\\.ly|rb\\.gy|rebrand\\.ly|short\\.cm|clk\\.im|cutt\\.ly|t2m\\.io|bl\\.ink|tiny\\.cc\"\n",
    "\n",
    "def parse_query_string(url):\n",
    "    if '?' not in url:\n",
    "        return {}\n",
    "    query_string = url.split('?')[-1]\n",
    "    query_pairs = query_string.split('&')\n",
    "    params = {}\n",
    "    for pair in query_pairs:\n",
    "        split_pair = pair.split('=', 1)\n",
    "        key = split_pair[0]\n",
    "        value = split_pair[1] if len(split_pair) > 1 else None\n",
    "        params[key] = value\n",
    "    return params\n",
    "\n",
    "def extract_features(url):\n",
    "    features = {}\n",
    "    features['IP_LIKE'] = 1 if re.search(ip_pattern, url) else 0\n",
    "    features['AT'] = 1 if \"@\" in url else 0\n",
    "    features['URL_Depth'] = len([segment for segment in urlparse(url).path.split('/') if segment])\n",
    "    features['Redirection'] = 1 if url.rfind('//') > 6 else 0\n",
    "    features['Is_Https'] = 1 if urllib.parse.urlsplit(url).scheme == 'https' else 0\n",
    "    features['TINY_URL'] = 1 if re.search(shorteningServices, url) else 0\n",
    "    features['Query'] = len(parse_query_string(url))\n",
    "    features['(-)_InDomain'] = 1 if '-' in urlparse(url).netloc else 0\n",
    "    return features\n",
    "\n",
    "def tokenize_url(url: str):\n",
    "    tokens = []\n",
    "    parsed_url = urlparse(url)\n",
    "    domain_tokens = parsed_url.netloc.split('.')\n",
    "    tokens.extend(domain_tokens)\n",
    "    path_tokens = parsed_url.path.split('/')\n",
    "    tokens.extend([token for token in path_tokens if token])\n",
    "    query_tokens = parse_qs(parsed_url.query)\n",
    "    for key, values in query_tokens.items():\n",
    "        tokens.append(key)\n",
    "        tokens.extend(values)\n",
    "    return tokens\n",
    "\n",
    "def predict_phishing(url: str):\n",
    "    tokenized_url = ' '.join(tokenize_url(url))\n",
    "    url_vector = vectorizer.transform([tokenized_url])\n",
    "    \n",
    "    features = extract_features(url)\n",
    "    other_features = [[features['IP_LIKE'], features['AT'], features['URL_Depth'], features['Redirection'], \n",
    "                       features['Is_Https'], features['TINY_URL'], features['Query'], features['(-)_InDomain']]]\n",
    "    \n",
    "    from scipy.sparse import hstack\n",
    "    final_vector = hstack([url_vector, other_features])\n",
    "    \n",
    "    prediction = rf_model.predict(final_vector)\n",
    "    return prediction[0]\n",
    "\n",
    "@app.route('/predict', methods=['POST'])\n",
    "def predict():\n",
    "    data = request.get_json()\n",
    "    url = data['url']\n",
    "    prediction = predict_phishing(url)\n",
    "    result = 'Phishing' if prediction == 1 else 'Not Phishing'\n",
    "    return jsonify({'url': url, 'prediction': result})\n",
    "\n",
    "if __name__ == '__main__':\n",
    "    app.run(debug=True)\n"
   ]
  }
 ],
 "metadata": {
  "kernelspec": {
   "display_name": "Python 3 (ipykernel)",
   "language": "python",
   "name": "python3"
  },
  "language_info": {
   "codemirror_mode": {
    "name": "ipython",
    "version": 3
   },
   "file_extension": ".py",
   "mimetype": "text/x-python",
   "name": "python",
   "nbconvert_exporter": "python",
   "pygments_lexer": "ipython3",
   "version": "3.11.7"
  }
 },
 "nbformat": 4,
 "nbformat_minor": 5
}
